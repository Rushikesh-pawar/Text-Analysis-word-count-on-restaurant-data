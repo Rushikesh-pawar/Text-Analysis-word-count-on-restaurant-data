{
  "nbformat": 4,
  "nbformat_minor": 0,
  "metadata": {
    "colab": {
      "name": "Untitled13.ipynb",
      "provenance": [],
      "authorship_tag": "ABX9TyPEYWw6PmIG2zbool9nmaBF",
      "include_colab_link": true
    },
    "kernelspec": {
      "name": "python3",
      "display_name": "Python 3"
    },
    "language_info": {
      "name": "python"
    }
  },
  "cells": [
    {
      "cell_type": "markdown",
      "metadata": {
        "id": "view-in-github",
        "colab_type": "text"
      },
      "source": [
        "<a href=\"https://colab.research.google.com/github/Rushikesh-pawar/Text-Analysis-word-count-on-restaurant-data/blob/main/Untitled13.ipynb\" target=\"_parent\"><img src=\"https://colab.research.google.com/assets/colab-badge.svg\" alt=\"Open In Colab\"/></a>"
      ]
    },
    {
      "cell_type": "code",
      "execution_count": 9,
      "metadata": {
        "colab": {
          "base_uri": "https://localhost:8080/"
        },
        "id": "1CFPszRr-9OD",
        "outputId": "c27ecc20-d178-407c-c76f-ab348547d92a"
      },
      "outputs": [
        {
          "output_type": "stream",
          "name": "stdout",
          "text": [
            "[nltk_data] Downloading package stopwords to /root/nltk_data...\n",
            "[nltk_data]   Package stopwords is already up-to-date!\n",
            "[nltk_data] Downloading package punkt to /root/nltk_data...\n",
            "[nltk_data]   Package punkt is already up-to-date!\n"
          ]
        }
      ],
      "source": [
        "#import libraries\n",
        "import sys\n",
        "import nltk\n",
        "nltk.download('stopwords')\n",
        "nltk.download('punkt')\n",
        "import sklearn\n",
        "import pandas\n",
        "import numpy\n"
      ]
    },
    {
      "cell_type": "code",
      "source": [
        "import pandas as pd\n",
        "import numpy as np\n",
        "\n",
        "# load the dataset of restaurant data\n",
        "df = pd.read_csv('swiggy1.csv')"
      ],
      "metadata": {
        "id": "nOOgA4sG_Ajz"
      },
      "execution_count": 1,
      "outputs": []
    },
    {
      "cell_type": "code",
      "source": [
        "df.shape"
      ],
      "metadata": {
        "colab": {
          "base_uri": "https://localhost:8080/"
        },
        "id": "l_DXLeyCz8xF",
        "outputId": "2bc7a5b5-c86a-456a-8fc9-4bd0171d54fc"
      },
      "execution_count": 10,
      "outputs": [
        {
          "output_type": "execute_result",
          "data": {
            "text/plain": [
              "(528, 10)"
            ]
          },
          "metadata": {},
          "execution_count": 10
        }
      ]
    },
    {
      "cell_type": "code",
      "source": [
        "df.head()"
      ],
      "metadata": {
        "colab": {
          "base_uri": "https://localhost:8080/",
          "height": 354
        },
        "id": "OaGzgUmV1Gfb",
        "outputId": "14f955de-d266-4da4-ee8e-d754bdb5973a"
      },
      "execution_count": 11,
      "outputs": [
        {
          "output_type": "execute_result",
          "data": {
            "text/html": [
              "\n",
              "  <div id=\"df-10b6fc9f-35da-46e4-b37d-673b4eb241d0\">\n",
              "    <div class=\"colab-df-container\">\n",
              "      <div>\n",
              "<style scoped>\n",
              "    .dataframe tbody tr th:only-of-type {\n",
              "        vertical-align: middle;\n",
              "    }\n",
              "\n",
              "    .dataframe tbody tr th {\n",
              "        vertical-align: top;\n",
              "    }\n",
              "\n",
              "    .dataframe thead th {\n",
              "        text-align: right;\n",
              "    }\n",
              "</style>\n",
              "<table border=\"1\" class=\"dataframe\">\n",
              "  <thead>\n",
              "    <tr style=\"text-align: right;\">\n",
              "      <th></th>\n",
              "      <th>Unnamed: 0</th>\n",
              "      <th>Dish_name</th>\n",
              "      <th>Description</th>\n",
              "      <th>Price</th>\n",
              "      <th>Bestseller</th>\n",
              "      <th>Restaurant Name</th>\n",
              "      <th>Restaurant Address</th>\n",
              "      <th>Restaurant Ratings</th>\n",
              "      <th>Number of Ratings</th>\n",
              "      <th>Item Catagory</th>\n",
              "    </tr>\n",
              "  </thead>\n",
              "  <tbody>\n",
              "    <tr>\n",
              "      <th>0</th>\n",
              "      <td>0</td>\n",
              "      <td>Cheese Melt Down Burger</td>\n",
              "      <td>Cheese oozing spicy veg patty, veggies and cr...</td>\n",
              "      <td>169</td>\n",
              "      <td>No</td>\n",
              "      <td>Burger King</td>\n",
              "      <td>Opposite To West Side, Shivaji Nagar</td>\n",
              "      <td>4.2</td>\n",
              "      <td>1000+ ratings</td>\n",
              "      <td>American, Fast Food</td>\n",
              "    </tr>\n",
              "    <tr>\n",
              "      <th>1</th>\n",
              "      <td>1</td>\n",
              "      <td>Fiery Chicken Burger</td>\n",
              "      <td>Too Hot to Handle. Our Spicy &amp; Crunchy Chicke...</td>\n",
              "      <td>179</td>\n",
              "      <td>No</td>\n",
              "      <td>Burger King</td>\n",
              "      <td>Opposite To West Side, Shivaji Nagar</td>\n",
              "      <td>4.2</td>\n",
              "      <td>1000+ ratings</td>\n",
              "      <td>American, Fast Food</td>\n",
              "    </tr>\n",
              "    <tr>\n",
              "      <th>2</th>\n",
              "      <td>2</td>\n",
              "      <td>Anytime Combo (Veg)</td>\n",
              "      <td>2 Crispy Veg Double Patty+ 1 King Peri Peri F...</td>\n",
              "      <td>476</td>\n",
              "      <td>No</td>\n",
              "      <td>Burger King</td>\n",
              "      <td>Opposite To West Side, Shivaji Nagar</td>\n",
              "      <td>4.2</td>\n",
              "      <td>1000+ ratings</td>\n",
              "      <td>American, Fast Food</td>\n",
              "    </tr>\n",
              "    <tr>\n",
              "      <th>3</th>\n",
              "      <td>3</td>\n",
              "      <td>Anytime Combo (Chicken)</td>\n",
              "      <td>2 Crispy Chicken Double Patty + 1King Peri Pe...</td>\n",
              "      <td>594</td>\n",
              "      <td>No</td>\n",
              "      <td>Burger King</td>\n",
              "      <td>Opposite To West Side, Shivaji Nagar</td>\n",
              "      <td>4.2</td>\n",
              "      <td>1000+ ratings</td>\n",
              "      <td>American, Fast Food</td>\n",
              "    </tr>\n",
              "    <tr>\n",
              "      <th>4</th>\n",
              "      <td>4</td>\n",
              "      <td>WFH Combo (Veg)</td>\n",
              "      <td>2Veg Whopper + 1King Peri Peri Fries + 1 Vegg...</td>\n",
              "      <td>694</td>\n",
              "      <td>No</td>\n",
              "      <td>Burger King</td>\n",
              "      <td>Opposite To West Side, Shivaji Nagar</td>\n",
              "      <td>4.2</td>\n",
              "      <td>1000+ ratings</td>\n",
              "      <td>American, Fast Food</td>\n",
              "    </tr>\n",
              "  </tbody>\n",
              "</table>\n",
              "</div>\n",
              "      <button class=\"colab-df-convert\" onclick=\"convertToInteractive('df-10b6fc9f-35da-46e4-b37d-673b4eb241d0')\"\n",
              "              title=\"Convert this dataframe to an interactive table.\"\n",
              "              style=\"display:none;\">\n",
              "        \n",
              "  <svg xmlns=\"http://www.w3.org/2000/svg\" height=\"24px\"viewBox=\"0 0 24 24\"\n",
              "       width=\"24px\">\n",
              "    <path d=\"M0 0h24v24H0V0z\" fill=\"none\"/>\n",
              "    <path d=\"M18.56 5.44l.94 2.06.94-2.06 2.06-.94-2.06-.94-.94-2.06-.94 2.06-2.06.94zm-11 1L8.5 8.5l.94-2.06 2.06-.94-2.06-.94L8.5 2.5l-.94 2.06-2.06.94zm10 10l.94 2.06.94-2.06 2.06-.94-2.06-.94-.94-2.06-.94 2.06-2.06.94z\"/><path d=\"M17.41 7.96l-1.37-1.37c-.4-.4-.92-.59-1.43-.59-.52 0-1.04.2-1.43.59L10.3 9.45l-7.72 7.72c-.78.78-.78 2.05 0 2.83L4 21.41c.39.39.9.59 1.41.59.51 0 1.02-.2 1.41-.59l7.78-7.78 2.81-2.81c.8-.78.8-2.07 0-2.86zM5.41 20L4 18.59l7.72-7.72 1.47 1.35L5.41 20z\"/>\n",
              "  </svg>\n",
              "      </button>\n",
              "      \n",
              "  <style>\n",
              "    .colab-df-container {\n",
              "      display:flex;\n",
              "      flex-wrap:wrap;\n",
              "      gap: 12px;\n",
              "    }\n",
              "\n",
              "    .colab-df-convert {\n",
              "      background-color: #E8F0FE;\n",
              "      border: none;\n",
              "      border-radius: 50%;\n",
              "      cursor: pointer;\n",
              "      display: none;\n",
              "      fill: #1967D2;\n",
              "      height: 32px;\n",
              "      padding: 0 0 0 0;\n",
              "      width: 32px;\n",
              "    }\n",
              "\n",
              "    .colab-df-convert:hover {\n",
              "      background-color: #E2EBFA;\n",
              "      box-shadow: 0px 1px 2px rgba(60, 64, 67, 0.3), 0px 1px 3px 1px rgba(60, 64, 67, 0.15);\n",
              "      fill: #174EA6;\n",
              "    }\n",
              "\n",
              "    [theme=dark] .colab-df-convert {\n",
              "      background-color: #3B4455;\n",
              "      fill: #D2E3FC;\n",
              "    }\n",
              "\n",
              "    [theme=dark] .colab-df-convert:hover {\n",
              "      background-color: #434B5C;\n",
              "      box-shadow: 0px 1px 3px 1px rgba(0, 0, 0, 0.15);\n",
              "      filter: drop-shadow(0px 1px 2px rgba(0, 0, 0, 0.3));\n",
              "      fill: #FFFFFF;\n",
              "    }\n",
              "  </style>\n",
              "\n",
              "      <script>\n",
              "        const buttonEl =\n",
              "          document.querySelector('#df-10b6fc9f-35da-46e4-b37d-673b4eb241d0 button.colab-df-convert');\n",
              "        buttonEl.style.display =\n",
              "          google.colab.kernel.accessAllowed ? 'block' : 'none';\n",
              "\n",
              "        async function convertToInteractive(key) {\n",
              "          const element = document.querySelector('#df-10b6fc9f-35da-46e4-b37d-673b4eb241d0');\n",
              "          const dataTable =\n",
              "            await google.colab.kernel.invokeFunction('convertToInteractive',\n",
              "                                                     [key], {});\n",
              "          if (!dataTable) return;\n",
              "\n",
              "          const docLinkHtml = 'Like what you see? Visit the ' +\n",
              "            '<a target=\"_blank\" href=https://colab.research.google.com/notebooks/data_table.ipynb>data table notebook</a>'\n",
              "            + ' to learn more about interactive tables.';\n",
              "          element.innerHTML = '';\n",
              "          dataTable['output_type'] = 'display_data';\n",
              "          await google.colab.output.renderOutput(dataTable, element);\n",
              "          const docLink = document.createElement('div');\n",
              "          docLink.innerHTML = docLinkHtml;\n",
              "          element.appendChild(docLink);\n",
              "        }\n",
              "      </script>\n",
              "    </div>\n",
              "  </div>\n",
              "  "
            ],
            "text/plain": [
              "   Unnamed: 0                Dish_name  ... Number of Ratings        Item Catagory\n",
              "0           0  Cheese Melt Down Burger  ...     1000+ ratings  American, Fast Food\n",
              "1           1     Fiery Chicken Burger  ...     1000+ ratings  American, Fast Food\n",
              "2           2      Anytime Combo (Veg)  ...     1000+ ratings  American, Fast Food\n",
              "3           3  Anytime Combo (Chicken)  ...     1000+ ratings  American, Fast Food\n",
              "4           4          WFH Combo (Veg)  ...     1000+ ratings  American, Fast Food\n",
              "\n",
              "[5 rows x 10 columns]"
            ]
          },
          "metadata": {},
          "execution_count": 11
        }
      ]
    },
    {
      "cell_type": "code",
      "source": [
        "df.info()"
      ],
      "metadata": {
        "colab": {
          "base_uri": "https://localhost:8080/"
        },
        "id": "Wu2wjm081Jnz",
        "outputId": "941ffb44-b3d1-421a-abea-4bb379de0e69"
      },
      "execution_count": 12,
      "outputs": [
        {
          "output_type": "stream",
          "name": "stdout",
          "text": [
            "<class 'pandas.core.frame.DataFrame'>\n",
            "RangeIndex: 528 entries, 0 to 527\n",
            "Data columns (total 10 columns):\n",
            " #   Column              Non-Null Count  Dtype  \n",
            "---  ------              --------------  -----  \n",
            " 0   Unnamed: 0          528 non-null    int64  \n",
            " 1   Dish_name           528 non-null    object \n",
            " 2   Description         492 non-null    object \n",
            " 3   Price               528 non-null    int64  \n",
            " 4   Bestseller          528 non-null    object \n",
            " 5   Restaurant Name     528 non-null    object \n",
            " 6   Restaurant Address  528 non-null    object \n",
            " 7   Restaurant Ratings  528 non-null    float64\n",
            " 8   Number of Ratings   528 non-null    object \n",
            " 9   Item Catagory       528 non-null    object \n",
            "dtypes: float64(1), int64(2), object(7)\n",
            "memory usage: 41.4+ KB\n"
          ]
        }
      ]
    },
    {
      "cell_type": "code",
      "source": [
        "#checking for missing values\n",
        "df.isnull()"
      ],
      "metadata": {
        "colab": {
          "base_uri": "https://localhost:8080/",
          "height": 485
        },
        "id": "_vGcEGhp1VnD",
        "outputId": "cd73af9a-b5c5-47e4-8fd2-85bd68bbdb1d"
      },
      "execution_count": 16,
      "outputs": [
        {
          "output_type": "execute_result",
          "data": {
            "text/html": [
              "\n",
              "  <div id=\"df-9c6faea9-fddc-4430-bf15-5ee7aab3dba6\">\n",
              "    <div class=\"colab-df-container\">\n",
              "      <div>\n",
              "<style scoped>\n",
              "    .dataframe tbody tr th:only-of-type {\n",
              "        vertical-align: middle;\n",
              "    }\n",
              "\n",
              "    .dataframe tbody tr th {\n",
              "        vertical-align: top;\n",
              "    }\n",
              "\n",
              "    .dataframe thead th {\n",
              "        text-align: right;\n",
              "    }\n",
              "</style>\n",
              "<table border=\"1\" class=\"dataframe\">\n",
              "  <thead>\n",
              "    <tr style=\"text-align: right;\">\n",
              "      <th></th>\n",
              "      <th>Unnamed: 0</th>\n",
              "      <th>Dish_name</th>\n",
              "      <th>Description</th>\n",
              "      <th>Price</th>\n",
              "      <th>Bestseller</th>\n",
              "      <th>Restaurant Name</th>\n",
              "      <th>Restaurant Address</th>\n",
              "      <th>Restaurant Ratings</th>\n",
              "      <th>Number of Ratings</th>\n",
              "      <th>Item Catagory</th>\n",
              "    </tr>\n",
              "  </thead>\n",
              "  <tbody>\n",
              "    <tr>\n",
              "      <th>0</th>\n",
              "      <td>False</td>\n",
              "      <td>False</td>\n",
              "      <td>False</td>\n",
              "      <td>False</td>\n",
              "      <td>False</td>\n",
              "      <td>False</td>\n",
              "      <td>False</td>\n",
              "      <td>False</td>\n",
              "      <td>False</td>\n",
              "      <td>False</td>\n",
              "    </tr>\n",
              "    <tr>\n",
              "      <th>1</th>\n",
              "      <td>False</td>\n",
              "      <td>False</td>\n",
              "      <td>False</td>\n",
              "      <td>False</td>\n",
              "      <td>False</td>\n",
              "      <td>False</td>\n",
              "      <td>False</td>\n",
              "      <td>False</td>\n",
              "      <td>False</td>\n",
              "      <td>False</td>\n",
              "    </tr>\n",
              "    <tr>\n",
              "      <th>2</th>\n",
              "      <td>False</td>\n",
              "      <td>False</td>\n",
              "      <td>False</td>\n",
              "      <td>False</td>\n",
              "      <td>False</td>\n",
              "      <td>False</td>\n",
              "      <td>False</td>\n",
              "      <td>False</td>\n",
              "      <td>False</td>\n",
              "      <td>False</td>\n",
              "    </tr>\n",
              "    <tr>\n",
              "      <th>3</th>\n",
              "      <td>False</td>\n",
              "      <td>False</td>\n",
              "      <td>False</td>\n",
              "      <td>False</td>\n",
              "      <td>False</td>\n",
              "      <td>False</td>\n",
              "      <td>False</td>\n",
              "      <td>False</td>\n",
              "      <td>False</td>\n",
              "      <td>False</td>\n",
              "    </tr>\n",
              "    <tr>\n",
              "      <th>4</th>\n",
              "      <td>False</td>\n",
              "      <td>False</td>\n",
              "      <td>False</td>\n",
              "      <td>False</td>\n",
              "      <td>False</td>\n",
              "      <td>False</td>\n",
              "      <td>False</td>\n",
              "      <td>False</td>\n",
              "      <td>False</td>\n",
              "      <td>False</td>\n",
              "    </tr>\n",
              "    <tr>\n",
              "      <th>...</th>\n",
              "      <td>...</td>\n",
              "      <td>...</td>\n",
              "      <td>...</td>\n",
              "      <td>...</td>\n",
              "      <td>...</td>\n",
              "      <td>...</td>\n",
              "      <td>...</td>\n",
              "      <td>...</td>\n",
              "      <td>...</td>\n",
              "      <td>...</td>\n",
              "    </tr>\n",
              "    <tr>\n",
              "      <th>523</th>\n",
              "      <td>False</td>\n",
              "      <td>False</td>\n",
              "      <td>False</td>\n",
              "      <td>False</td>\n",
              "      <td>False</td>\n",
              "      <td>False</td>\n",
              "      <td>False</td>\n",
              "      <td>False</td>\n",
              "      <td>False</td>\n",
              "      <td>False</td>\n",
              "    </tr>\n",
              "    <tr>\n",
              "      <th>524</th>\n",
              "      <td>False</td>\n",
              "      <td>False</td>\n",
              "      <td>True</td>\n",
              "      <td>False</td>\n",
              "      <td>False</td>\n",
              "      <td>False</td>\n",
              "      <td>False</td>\n",
              "      <td>False</td>\n",
              "      <td>False</td>\n",
              "      <td>False</td>\n",
              "    </tr>\n",
              "    <tr>\n",
              "      <th>525</th>\n",
              "      <td>False</td>\n",
              "      <td>False</td>\n",
              "      <td>True</td>\n",
              "      <td>False</td>\n",
              "      <td>False</td>\n",
              "      <td>False</td>\n",
              "      <td>False</td>\n",
              "      <td>False</td>\n",
              "      <td>False</td>\n",
              "      <td>False</td>\n",
              "    </tr>\n",
              "    <tr>\n",
              "      <th>526</th>\n",
              "      <td>False</td>\n",
              "      <td>False</td>\n",
              "      <td>True</td>\n",
              "      <td>False</td>\n",
              "      <td>False</td>\n",
              "      <td>False</td>\n",
              "      <td>False</td>\n",
              "      <td>False</td>\n",
              "      <td>False</td>\n",
              "      <td>False</td>\n",
              "    </tr>\n",
              "    <tr>\n",
              "      <th>527</th>\n",
              "      <td>False</td>\n",
              "      <td>False</td>\n",
              "      <td>False</td>\n",
              "      <td>False</td>\n",
              "      <td>False</td>\n",
              "      <td>False</td>\n",
              "      <td>False</td>\n",
              "      <td>False</td>\n",
              "      <td>False</td>\n",
              "      <td>False</td>\n",
              "    </tr>\n",
              "  </tbody>\n",
              "</table>\n",
              "<p>528 rows × 10 columns</p>\n",
              "</div>\n",
              "      <button class=\"colab-df-convert\" onclick=\"convertToInteractive('df-9c6faea9-fddc-4430-bf15-5ee7aab3dba6')\"\n",
              "              title=\"Convert this dataframe to an interactive table.\"\n",
              "              style=\"display:none;\">\n",
              "        \n",
              "  <svg xmlns=\"http://www.w3.org/2000/svg\" height=\"24px\"viewBox=\"0 0 24 24\"\n",
              "       width=\"24px\">\n",
              "    <path d=\"M0 0h24v24H0V0z\" fill=\"none\"/>\n",
              "    <path d=\"M18.56 5.44l.94 2.06.94-2.06 2.06-.94-2.06-.94-.94-2.06-.94 2.06-2.06.94zm-11 1L8.5 8.5l.94-2.06 2.06-.94-2.06-.94L8.5 2.5l-.94 2.06-2.06.94zm10 10l.94 2.06.94-2.06 2.06-.94-2.06-.94-.94-2.06-.94 2.06-2.06.94z\"/><path d=\"M17.41 7.96l-1.37-1.37c-.4-.4-.92-.59-1.43-.59-.52 0-1.04.2-1.43.59L10.3 9.45l-7.72 7.72c-.78.78-.78 2.05 0 2.83L4 21.41c.39.39.9.59 1.41.59.51 0 1.02-.2 1.41-.59l7.78-7.78 2.81-2.81c.8-.78.8-2.07 0-2.86zM5.41 20L4 18.59l7.72-7.72 1.47 1.35L5.41 20z\"/>\n",
              "  </svg>\n",
              "      </button>\n",
              "      \n",
              "  <style>\n",
              "    .colab-df-container {\n",
              "      display:flex;\n",
              "      flex-wrap:wrap;\n",
              "      gap: 12px;\n",
              "    }\n",
              "\n",
              "    .colab-df-convert {\n",
              "      background-color: #E8F0FE;\n",
              "      border: none;\n",
              "      border-radius: 50%;\n",
              "      cursor: pointer;\n",
              "      display: none;\n",
              "      fill: #1967D2;\n",
              "      height: 32px;\n",
              "      padding: 0 0 0 0;\n",
              "      width: 32px;\n",
              "    }\n",
              "\n",
              "    .colab-df-convert:hover {\n",
              "      background-color: #E2EBFA;\n",
              "      box-shadow: 0px 1px 2px rgba(60, 64, 67, 0.3), 0px 1px 3px 1px rgba(60, 64, 67, 0.15);\n",
              "      fill: #174EA6;\n",
              "    }\n",
              "\n",
              "    [theme=dark] .colab-df-convert {\n",
              "      background-color: #3B4455;\n",
              "      fill: #D2E3FC;\n",
              "    }\n",
              "\n",
              "    [theme=dark] .colab-df-convert:hover {\n",
              "      background-color: #434B5C;\n",
              "      box-shadow: 0px 1px 3px 1px rgba(0, 0, 0, 0.15);\n",
              "      filter: drop-shadow(0px 1px 2px rgba(0, 0, 0, 0.3));\n",
              "      fill: #FFFFFF;\n",
              "    }\n",
              "  </style>\n",
              "\n",
              "      <script>\n",
              "        const buttonEl =\n",
              "          document.querySelector('#df-9c6faea9-fddc-4430-bf15-5ee7aab3dba6 button.colab-df-convert');\n",
              "        buttonEl.style.display =\n",
              "          google.colab.kernel.accessAllowed ? 'block' : 'none';\n",
              "\n",
              "        async function convertToInteractive(key) {\n",
              "          const element = document.querySelector('#df-9c6faea9-fddc-4430-bf15-5ee7aab3dba6');\n",
              "          const dataTable =\n",
              "            await google.colab.kernel.invokeFunction('convertToInteractive',\n",
              "                                                     [key], {});\n",
              "          if (!dataTable) return;\n",
              "\n",
              "          const docLinkHtml = 'Like what you see? Visit the ' +\n",
              "            '<a target=\"_blank\" href=https://colab.research.google.com/notebooks/data_table.ipynb>data table notebook</a>'\n",
              "            + ' to learn more about interactive tables.';\n",
              "          element.innerHTML = '';\n",
              "          dataTable['output_type'] = 'display_data';\n",
              "          await google.colab.output.renderOutput(dataTable, element);\n",
              "          const docLink = document.createElement('div');\n",
              "          docLink.innerHTML = docLinkHtml;\n",
              "          element.appendChild(docLink);\n",
              "        }\n",
              "      </script>\n",
              "    </div>\n",
              "  </div>\n",
              "  "
            ],
            "text/plain": [
              "     Unnamed: 0  Dish_name  ...  Number of Ratings  Item Catagory\n",
              "0         False      False  ...              False          False\n",
              "1         False      False  ...              False          False\n",
              "2         False      False  ...              False          False\n",
              "3         False      False  ...              False          False\n",
              "4         False      False  ...              False          False\n",
              "..          ...        ...  ...                ...            ...\n",
              "523       False      False  ...              False          False\n",
              "524       False      False  ...              False          False\n",
              "525       False      False  ...              False          False\n",
              "526       False      False  ...              False          False\n",
              "527       False      False  ...              False          False\n",
              "\n",
              "[528 rows x 10 columns]"
            ]
          },
          "metadata": {},
          "execution_count": 16
        }
      ]
    },
    {
      "cell_type": "code",
      "source": [
        "# fill the NA values with fillna\n",
        "df = df.fillna(method = 'ffill')"
      ],
      "metadata": {
        "id": "eFBH5TL82RrT"
      },
      "execution_count": 26,
      "outputs": []
    },
    {
      "cell_type": "code",
      "source": [
        "df"
      ],
      "metadata": {
        "colab": {
          "base_uri": "https://localhost:8080/",
          "height": 693
        },
        "id": "bcOboRNi_lpP",
        "outputId": "6ef0dc8e-433c-4c10-d4be-3a91b49a51f6"
      },
      "execution_count": 27,
      "outputs": [
        {
          "output_type": "execute_result",
          "data": {
            "text/html": [
              "\n",
              "  <div id=\"df-eb20187d-798d-47a2-b77c-f8bd7d6b7de8\">\n",
              "    <div class=\"colab-df-container\">\n",
              "      <div>\n",
              "<style scoped>\n",
              "    .dataframe tbody tr th:only-of-type {\n",
              "        vertical-align: middle;\n",
              "    }\n",
              "\n",
              "    .dataframe tbody tr th {\n",
              "        vertical-align: top;\n",
              "    }\n",
              "\n",
              "    .dataframe thead th {\n",
              "        text-align: right;\n",
              "    }\n",
              "</style>\n",
              "<table border=\"1\" class=\"dataframe\">\n",
              "  <thead>\n",
              "    <tr style=\"text-align: right;\">\n",
              "      <th></th>\n",
              "      <th>Unnamed: 0</th>\n",
              "      <th>Dish_name</th>\n",
              "      <th>Description</th>\n",
              "      <th>Price</th>\n",
              "      <th>Bestseller</th>\n",
              "      <th>Restaurant Name</th>\n",
              "      <th>Restaurant Address</th>\n",
              "      <th>Restaurant Ratings</th>\n",
              "      <th>Number of Ratings</th>\n",
              "      <th>Item Catagory</th>\n",
              "    </tr>\n",
              "  </thead>\n",
              "  <tbody>\n",
              "    <tr>\n",
              "      <th>0</th>\n",
              "      <td>0</td>\n",
              "      <td>Cheese Melt Down Burger</td>\n",
              "      <td>Cheese oozing spicy veg patty, veggies and cr...</td>\n",
              "      <td>169</td>\n",
              "      <td>No</td>\n",
              "      <td>Burger King</td>\n",
              "      <td>Opposite To West Side, Shivaji Nagar</td>\n",
              "      <td>4.2</td>\n",
              "      <td>1000+ ratings</td>\n",
              "      <td>American, Fast Food</td>\n",
              "    </tr>\n",
              "    <tr>\n",
              "      <th>1</th>\n",
              "      <td>1</td>\n",
              "      <td>Fiery Chicken Burger</td>\n",
              "      <td>Too Hot to Handle. Our Spicy &amp; Crunchy Chicke...</td>\n",
              "      <td>179</td>\n",
              "      <td>No</td>\n",
              "      <td>Burger King</td>\n",
              "      <td>Opposite To West Side, Shivaji Nagar</td>\n",
              "      <td>4.2</td>\n",
              "      <td>1000+ ratings</td>\n",
              "      <td>American, Fast Food</td>\n",
              "    </tr>\n",
              "    <tr>\n",
              "      <th>2</th>\n",
              "      <td>2</td>\n",
              "      <td>Anytime Combo (Veg)</td>\n",
              "      <td>2 Crispy Veg Double Patty+ 1 King Peri Peri F...</td>\n",
              "      <td>476</td>\n",
              "      <td>No</td>\n",
              "      <td>Burger King</td>\n",
              "      <td>Opposite To West Side, Shivaji Nagar</td>\n",
              "      <td>4.2</td>\n",
              "      <td>1000+ ratings</td>\n",
              "      <td>American, Fast Food</td>\n",
              "    </tr>\n",
              "    <tr>\n",
              "      <th>3</th>\n",
              "      <td>3</td>\n",
              "      <td>Anytime Combo (Chicken)</td>\n",
              "      <td>2 Crispy Chicken Double Patty + 1King Peri Pe...</td>\n",
              "      <td>594</td>\n",
              "      <td>No</td>\n",
              "      <td>Burger King</td>\n",
              "      <td>Opposite To West Side, Shivaji Nagar</td>\n",
              "      <td>4.2</td>\n",
              "      <td>1000+ ratings</td>\n",
              "      <td>American, Fast Food</td>\n",
              "    </tr>\n",
              "    <tr>\n",
              "      <th>4</th>\n",
              "      <td>4</td>\n",
              "      <td>WFH Combo (Veg)</td>\n",
              "      <td>2Veg Whopper + 1King Peri Peri Fries + 1 Vegg...</td>\n",
              "      <td>694</td>\n",
              "      <td>No</td>\n",
              "      <td>Burger King</td>\n",
              "      <td>Opposite To West Side, Shivaji Nagar</td>\n",
              "      <td>4.2</td>\n",
              "      <td>1000+ ratings</td>\n",
              "      <td>American, Fast Food</td>\n",
              "    </tr>\n",
              "    <tr>\n",
              "      <th>...</th>\n",
              "      <td>...</td>\n",
              "      <td>...</td>\n",
              "      <td>...</td>\n",
              "      <td>...</td>\n",
              "      <td>...</td>\n",
              "      <td>...</td>\n",
              "      <td>...</td>\n",
              "      <td>...</td>\n",
              "      <td>...</td>\n",
              "      <td>...</td>\n",
              "    </tr>\n",
              "    <tr>\n",
              "      <th>523</th>\n",
              "      <td>171</td>\n",
              "      <td>Hashbrown</td>\n",
              "      <td>What every potato wants to be.</td>\n",
              "      <td>29</td>\n",
              "      <td>No</td>\n",
              "      <td>Burger King</td>\n",
              "      <td>Opposite To West Side, Shivaji Nagar</td>\n",
              "      <td>4.2</td>\n",
              "      <td>1000+ ratings</td>\n",
              "      <td>American, Fast Food</td>\n",
              "    </tr>\n",
              "    <tr>\n",
              "      <th>524</th>\n",
              "      <td>172</td>\n",
              "      <td>King Egg Burger</td>\n",
              "      <td>What every potato wants to be.</td>\n",
              "      <td>60</td>\n",
              "      <td>No</td>\n",
              "      <td>Burger King</td>\n",
              "      <td>Opposite To West Side, Shivaji Nagar</td>\n",
              "      <td>4.2</td>\n",
              "      <td>1000+ ratings</td>\n",
              "      <td>American, Fast Food</td>\n",
              "    </tr>\n",
              "    <tr>\n",
              "      <th>525</th>\n",
              "      <td>173</td>\n",
              "      <td>king Egg Double Patty Burger</td>\n",
              "      <td>What every potato wants to be.</td>\n",
              "      <td>80</td>\n",
              "      <td>No</td>\n",
              "      <td>Burger King</td>\n",
              "      <td>Opposite To West Side, Shivaji Nagar</td>\n",
              "      <td>4.2</td>\n",
              "      <td>1000+ ratings</td>\n",
              "      <td>American, Fast Food</td>\n",
              "    </tr>\n",
              "    <tr>\n",
              "      <th>526</th>\n",
              "      <td>174</td>\n",
              "      <td>King Egg with Cheese</td>\n",
              "      <td>What every potato wants to be.</td>\n",
              "      <td>80</td>\n",
              "      <td>No</td>\n",
              "      <td>Burger King</td>\n",
              "      <td>Opposite To West Side, Shivaji Nagar</td>\n",
              "      <td>4.2</td>\n",
              "      <td>1000+ ratings</td>\n",
              "      <td>American, Fast Food</td>\n",
              "    </tr>\n",
              "    <tr>\n",
              "      <th>527</th>\n",
              "      <td>175</td>\n",
              "      <td>King Egg Wrap</td>\n",
              "      <td>A fresh and fluffy  egg patty loaded with jui...</td>\n",
              "      <td>80</td>\n",
              "      <td>No</td>\n",
              "      <td>Burger King</td>\n",
              "      <td>Opposite To West Side, Shivaji Nagar</td>\n",
              "      <td>4.2</td>\n",
              "      <td>1000+ ratings</td>\n",
              "      <td>American, Fast Food</td>\n",
              "    </tr>\n",
              "  </tbody>\n",
              "</table>\n",
              "<p>528 rows × 10 columns</p>\n",
              "</div>\n",
              "      <button class=\"colab-df-convert\" onclick=\"convertToInteractive('df-eb20187d-798d-47a2-b77c-f8bd7d6b7de8')\"\n",
              "              title=\"Convert this dataframe to an interactive table.\"\n",
              "              style=\"display:none;\">\n",
              "        \n",
              "  <svg xmlns=\"http://www.w3.org/2000/svg\" height=\"24px\"viewBox=\"0 0 24 24\"\n",
              "       width=\"24px\">\n",
              "    <path d=\"M0 0h24v24H0V0z\" fill=\"none\"/>\n",
              "    <path d=\"M18.56 5.44l.94 2.06.94-2.06 2.06-.94-2.06-.94-.94-2.06-.94 2.06-2.06.94zm-11 1L8.5 8.5l.94-2.06 2.06-.94-2.06-.94L8.5 2.5l-.94 2.06-2.06.94zm10 10l.94 2.06.94-2.06 2.06-.94-2.06-.94-.94-2.06-.94 2.06-2.06.94z\"/><path d=\"M17.41 7.96l-1.37-1.37c-.4-.4-.92-.59-1.43-.59-.52 0-1.04.2-1.43.59L10.3 9.45l-7.72 7.72c-.78.78-.78 2.05 0 2.83L4 21.41c.39.39.9.59 1.41.59.51 0 1.02-.2 1.41-.59l7.78-7.78 2.81-2.81c.8-.78.8-2.07 0-2.86zM5.41 20L4 18.59l7.72-7.72 1.47 1.35L5.41 20z\"/>\n",
              "  </svg>\n",
              "      </button>\n",
              "      \n",
              "  <style>\n",
              "    .colab-df-container {\n",
              "      display:flex;\n",
              "      flex-wrap:wrap;\n",
              "      gap: 12px;\n",
              "    }\n",
              "\n",
              "    .colab-df-convert {\n",
              "      background-color: #E8F0FE;\n",
              "      border: none;\n",
              "      border-radius: 50%;\n",
              "      cursor: pointer;\n",
              "      display: none;\n",
              "      fill: #1967D2;\n",
              "      height: 32px;\n",
              "      padding: 0 0 0 0;\n",
              "      width: 32px;\n",
              "    }\n",
              "\n",
              "    .colab-df-convert:hover {\n",
              "      background-color: #E2EBFA;\n",
              "      box-shadow: 0px 1px 2px rgba(60, 64, 67, 0.3), 0px 1px 3px 1px rgba(60, 64, 67, 0.15);\n",
              "      fill: #174EA6;\n",
              "    }\n",
              "\n",
              "    [theme=dark] .colab-df-convert {\n",
              "      background-color: #3B4455;\n",
              "      fill: #D2E3FC;\n",
              "    }\n",
              "\n",
              "    [theme=dark] .colab-df-convert:hover {\n",
              "      background-color: #434B5C;\n",
              "      box-shadow: 0px 1px 3px 1px rgba(0, 0, 0, 0.15);\n",
              "      filter: drop-shadow(0px 1px 2px rgba(0, 0, 0, 0.3));\n",
              "      fill: #FFFFFF;\n",
              "    }\n",
              "  </style>\n",
              "\n",
              "      <script>\n",
              "        const buttonEl =\n",
              "          document.querySelector('#df-eb20187d-798d-47a2-b77c-f8bd7d6b7de8 button.colab-df-convert');\n",
              "        buttonEl.style.display =\n",
              "          google.colab.kernel.accessAllowed ? 'block' : 'none';\n",
              "\n",
              "        async function convertToInteractive(key) {\n",
              "          const element = document.querySelector('#df-eb20187d-798d-47a2-b77c-f8bd7d6b7de8');\n",
              "          const dataTable =\n",
              "            await google.colab.kernel.invokeFunction('convertToInteractive',\n",
              "                                                     [key], {});\n",
              "          if (!dataTable) return;\n",
              "\n",
              "          const docLinkHtml = 'Like what you see? Visit the ' +\n",
              "            '<a target=\"_blank\" href=https://colab.research.google.com/notebooks/data_table.ipynb>data table notebook</a>'\n",
              "            + ' to learn more about interactive tables.';\n",
              "          element.innerHTML = '';\n",
              "          dataTable['output_type'] = 'display_data';\n",
              "          await google.colab.output.renderOutput(dataTable, element);\n",
              "          const docLink = document.createElement('div');\n",
              "          docLink.innerHTML = docLinkHtml;\n",
              "          element.appendChild(docLink);\n",
              "        }\n",
              "      </script>\n",
              "    </div>\n",
              "  </div>\n",
              "  "
            ],
            "text/plain": [
              "     Unnamed: 0  ...        Item Catagory\n",
              "0             0  ...  American, Fast Food\n",
              "1             1  ...  American, Fast Food\n",
              "2             2  ...  American, Fast Food\n",
              "3             3  ...  American, Fast Food\n",
              "4             4  ...  American, Fast Food\n",
              "..          ...  ...                  ...\n",
              "523         171  ...  American, Fast Food\n",
              "524         172  ...  American, Fast Food\n",
              "525         173  ...  American, Fast Food\n",
              "526         174  ...  American, Fast Food\n",
              "527         175  ...  American, Fast Food\n",
              "\n",
              "[528 rows x 10 columns]"
            ]
          },
          "metadata": {},
          "execution_count": 27
        }
      ]
    },
    {
      "cell_type": "code",
      "source": [
        "dataTypeSeries = df.dtypes\n",
        "print(dataTypeSeries)\n",
        "df['Description'] = df['Description']"
      ],
      "metadata": {
        "colab": {
          "base_uri": "https://localhost:8080/"
        },
        "id": "QSLjPEpsEuHx",
        "outputId": "4847cb3e-a724-4ee4-a98b-1b94cb4e32fc"
      },
      "execution_count": 28,
      "outputs": [
        {
          "output_type": "stream",
          "name": "stdout",
          "text": [
            "Unnamed: 0              int64\n",
            "Dish_name              object\n",
            "Description            object\n",
            "Price                   int64\n",
            "Bestseller             object\n",
            "Restaurant Name        object\n",
            "Restaurant Address     object\n",
            "Restaurant Ratings    float64\n",
            "Number of Ratings      object\n",
            "Item Catagory          object\n",
            "dtype: object\n"
          ]
        }
      ]
    },
    {
      "cell_type": "code",
      "source": [
        "desc=df['Description']\n",
        "name=df['Dish_name']\n",
        "print(desc)\n",
        "print(name)"
      ],
      "metadata": {
        "colab": {
          "base_uri": "https://localhost:8080/"
        },
        "id": "sOnO30TC_otl",
        "outputId": "1b6b3e64-6453-48d1-ee84-8bac06c6001a"
      },
      "execution_count": 19,
      "outputs": [
        {
          "output_type": "stream",
          "name": "stdout",
          "text": [
            "0       Cheese oozing spicy veg patty, veggies and cr...\n",
            "1       Too Hot to Handle. Our Spicy & Crunchy Chicke...\n",
            "2       2 Crispy Veg Double Patty+ 1 King Peri Peri F...\n",
            "3       2 Crispy Chicken Double Patty + 1King Peri Pe...\n",
            "4       2Veg Whopper + 1King Peri Peri Fries + 1 Vegg...\n",
            "                             ...                        \n",
            "523                      What every potato wants to be. \n",
            "524                                                  NaN\n",
            "525                                                  NaN\n",
            "526                                                  NaN\n",
            "527     A fresh and fluffy  egg patty loaded with jui...\n",
            "Name: Description, Length: 528, dtype: object\n",
            "0           Cheese Melt Down Burger\n",
            "1              Fiery Chicken Burger\n",
            "2               Anytime Combo (Veg)\n",
            "3           Anytime Combo (Chicken)\n",
            "4                   WFH Combo (Veg)\n",
            "                   ...             \n",
            "523                       Hashbrown\n",
            "524                 King Egg Burger\n",
            "525    king Egg Double Patty Burger\n",
            "526            King Egg with Cheese\n",
            "527                   King Egg Wrap\n",
            "Name: Dish_name, Length: 528, dtype: object\n"
          ]
        }
      ]
    },
    {
      "cell_type": "markdown",
      "source": [
        "### Text Analysis for Dish Description Column"
      ],
      "metadata": {
        "id": "TcTL1ZoU2YR8"
      }
    },
    {
      "cell_type": "code",
      "source": [
        "# Remove punctuation\n",
        "processed = desc.str.replace(r'[^\\w\\d\\s]', ' ')\n",
        "\n",
        "# Replace whitespace between terms with a single space\n",
        "processed = processed.str.replace(r'\\s+', ' ')\n",
        "\n",
        "# Remove leading and trailing whitespace\n",
        "processed = processed.str.replace(r'\\s+', ' ')"
      ],
      "metadata": {
        "colab": {
          "base_uri": "https://localhost:8080/"
        },
        "id": "m8VwmARh_1SK",
        "outputId": "242b2f50-68ce-4d2c-fd2f-748cf8a81424"
      },
      "execution_count": 20,
      "outputs": [
        {
          "output_type": "stream",
          "name": "stderr",
          "text": [
            "/usr/local/lib/python3.7/dist-packages/ipykernel_launcher.py:2: FutureWarning: The default value of regex will change from True to False in a future version.\n",
            "  \n",
            "/usr/local/lib/python3.7/dist-packages/ipykernel_launcher.py:5: FutureWarning: The default value of regex will change from True to False in a future version.\n",
            "  \"\"\"\n",
            "/usr/local/lib/python3.7/dist-packages/ipykernel_launcher.py:8: FutureWarning: The default value of regex will change from True to False in a future version.\n",
            "  \n"
          ]
        }
      ]
    },
    {
      "cell_type": "code",
      "source": [
        "# change words to lower case - Hello, HELLO, hello are all the same word\n",
        "processed = processed.str.lower()\n",
        "print(processed)\n"
      ],
      "metadata": {
        "colab": {
          "base_uri": "https://localhost:8080/"
        },
        "id": "lijQHSfaAFNx",
        "outputId": "d63f620d-9fc0-41b5-b5fa-00ef5a557dc4"
      },
      "execution_count": 21,
      "outputs": [
        {
          "output_type": "stream",
          "name": "stdout",
          "text": [
            "0       cheese oozing spicy veg patty veggies and cre...\n",
            "1       too hot to handle our spicy crunchy chicken p...\n",
            "2       2 crispy veg double patty 1 king peri peri fr...\n",
            "3       2 crispy chicken double patty 1king peri peri...\n",
            "4       2veg whopper 1king peri peri fries 1 veggie s...\n",
            "                             ...                        \n",
            "523                       what every potato wants to be \n",
            "524                                                  NaN\n",
            "525                                                  NaN\n",
            "526                                                  NaN\n",
            "527     a fresh and fluffy egg patty loaded with juic...\n",
            "Name: Description, Length: 528, dtype: object\n"
          ]
        }
      ]
    },
    {
      "cell_type": "code",
      "source": [
        "from nltk.corpus import stopwords\n",
        "\n",
        "# remove stop words from text messages\n",
        "\n",
        "stop_words = set(stopwords.words('english'))\n",
        "\n",
        "processed = processed.apply(lambda x: ' '.join(term for term in x.split() if term not in stop_words))"
      ],
      "metadata": {
        "id": "RdqMPQhWATm9"
      },
      "execution_count": 22,
      "outputs": []
    },
    {
      "cell_type": "code",
      "source": [
        "# Remove word stems using a Porter stemmer\n",
        "ps = nltk.PorterStemmer()\n",
        "\n",
        "processed = processed.apply(lambda x: ' '.join(\n",
        "    ps.stem(term) for term in x.split()))"
      ],
      "metadata": {
        "id": "gvohkLhNInSp"
      },
      "execution_count": 23,
      "outputs": []
    },
    {
      "cell_type": "code",
      "source": [
        "from nltk.tokenize import word_tokenize\n",
        "\n",
        "# create bag-of-words\n",
        "all_words = []\n",
        "\n",
        "for message in processed:\n",
        "    words = word_tokenize(message)\n",
        "    for w in words:\n",
        "        all_words.append(w)\n",
        "        \n",
        "all_words = nltk.FreqDist(all_words)"
      ],
      "metadata": {
        "id": "cPNFbw6_J2mP"
      },
      "execution_count": 24,
      "outputs": []
    },
    {
      "cell_type": "code",
      "source": [
        "# print the total number of words and the 15 most common words\n",
        "print('Number of words: {}'.format(len(all_words)))\n",
        "print('Most common words: {}'.format(all_words.most_common(15)))"
      ],
      "metadata": {
        "colab": {
          "base_uri": "https://localhost:8080/"
        },
        "id": "YzVbpNc-J2-V",
        "outputId": "cc1e5e9f-880f-40dc-ca1b-3ac0e4d93004"
      },
      "execution_count": 25,
      "outputs": [
        {
          "output_type": "stream",
          "name": "stdout",
          "text": [
            "Number of words: 194\n",
            "Most common words: [('chicken', 276), ('patti', 255), ('fri', 225), ('crispi', 219), ('1', 219), ('whopper', 204), ('sauc', 198), ('2', 198), ('veg', 159), ('fresh', 132), ('pepsi', 123), ('signatur', 117), ('bun', 114), ('onion', 111), ('creami', 99)]\n"
          ]
        }
      ]
    },
    {
      "cell_type": "markdown",
      "source": [
        "### Text Analysis for Dish Name column"
      ],
      "metadata": {
        "id": "raSmxGdi2CqE"
      }
    },
    {
      "cell_type": "code",
      "source": [
        "# Remove punctuation\n",
        "processed1 = name.str.replace(r'[^\\w\\d\\s]', ' ')\n",
        "\n",
        "# Replace whitespace between terms with a single space\n",
        "processed1 = processed1.str.replace(r'\\s+', ' ')\n",
        "\n",
        "# Remove leading and trailing whitespace\n",
        "processed1 = processed1.str.replace(r'^\\s+|\\s+?$', '')"
      ],
      "metadata": {
        "colab": {
          "base_uri": "https://localhost:8080/"
        },
        "id": "Tk7jcS92KAjw",
        "outputId": "cc5e302f-bc56-4449-b61c-dd39c2e8c1db"
      },
      "execution_count": 29,
      "outputs": [
        {
          "output_type": "stream",
          "name": "stderr",
          "text": [
            "/usr/local/lib/python3.7/dist-packages/ipykernel_launcher.py:2: FutureWarning: The default value of regex will change from True to False in a future version.\n",
            "  \n",
            "/usr/local/lib/python3.7/dist-packages/ipykernel_launcher.py:5: FutureWarning: The default value of regex will change from True to False in a future version.\n",
            "  \"\"\"\n",
            "/usr/local/lib/python3.7/dist-packages/ipykernel_launcher.py:8: FutureWarning: The default value of regex will change from True to False in a future version.\n",
            "  \n"
          ]
        }
      ]
    },
    {
      "cell_type": "code",
      "source": [
        "# change words to lower case - Hello, HELLO, hello are all the same word\n",
        "processed1 = processed1.str.lower()\n",
        "print(processed)"
      ],
      "metadata": {
        "colab": {
          "base_uri": "https://localhost:8080/"
        },
        "id": "7vU99YF5Kv8I",
        "outputId": "070f9d3b-dfcf-441a-f79f-f77360559573"
      },
      "execution_count": 30,
      "outputs": [
        {
          "output_type": "stream",
          "name": "stdout",
          "text": [
            "0      chees ooz spici veg patti veggi creami sauc in...\n",
            "1      hot handl spici crunchi chicken patti top cris...\n",
            "2      2 crispi veg doubl patti 1 king peri peri fri ...\n",
            "3      2 crispi chicken doubl patti 1king peri peri f...\n",
            "4      2veg whopper 1king peri peri fri 1 veggi strip...\n",
            "                             ...                        \n",
            "523                                    everi potato want\n",
            "524                                    everi potato want\n",
            "525                                    everi potato want\n",
            "526                                    everi potato want\n",
            "527    fresh fluffi egg patti load juici veggi top de...\n",
            "Name: Description, Length: 528, dtype: object\n"
          ]
        }
      ]
    },
    {
      "cell_type": "code",
      "source": [
        "from nltk.corpus import stopwords\n",
        "\n",
        "# remove stop words from text messages\n",
        "\n",
        "stop_words1 = set(stopwords.words('english'))\n",
        "\n",
        "processed1 = processed1.apply(lambda x: ' '.join(\n",
        "    term for term in x.split() if term not in stop_words1))"
      ],
      "metadata": {
        "id": "Ek2ySF5vKyCN"
      },
      "execution_count": 31,
      "outputs": []
    },
    {
      "cell_type": "code",
      "source": [
        "# Remove word stems using a Porter stemmer\n",
        "ps = nltk.PorterStemmer()\n",
        "\n",
        "processed1 = processed1.apply(lambda x: ' '.join(\n",
        "    ps.stem(term) for term in x.split()))"
      ],
      "metadata": {
        "id": "q0w1MARnO2qM"
      },
      "execution_count": 32,
      "outputs": []
    },
    {
      "cell_type": "code",
      "source": [
        "from nltk.tokenize import word_tokenize\n",
        "\n",
        "# create bag-of-words\n",
        "all_words = []\n",
        "\n",
        "for message in processed:\n",
        "    words = word_tokenize(message)\n",
        "    for w in words:\n",
        "        all_words.append(w)\n",
        "        \n",
        "all_words = nltk.FreqDist(all_words)"
      ],
      "metadata": {
        "id": "cvPrBSHFO8ZD"
      },
      "execution_count": 33,
      "outputs": []
    },
    {
      "cell_type": "code",
      "source": [
        "# print the total number of words and the 15 most common words\n",
        "print('Number of words: {}'.format(len(all_words)))\n",
        "print('Most common words: {}'.format(all_words.most_common(15)))"
      ],
      "metadata": {
        "colab": {
          "base_uri": "https://localhost:8080/"
        },
        "id": "OqDIJMCNO8iT",
        "outputId": "19304436-c330-4d12-822d-55df2eda8170"
      },
      "execution_count": 34,
      "outputs": [
        {
          "output_type": "stream",
          "name": "stdout",
          "text": [
            "Number of words: 194\n",
            "Most common words: [('chicken', 276), ('patti', 255), ('fri', 225), ('crispi', 219), ('1', 219), ('whopper', 204), ('sauc', 198), ('2', 198), ('veg', 159), ('fresh', 132), ('pepsi', 123), ('signatur', 117), ('bun', 114), ('onion', 111), ('creami', 99)]\n"
          ]
        }
      ]
    }
  ]
}